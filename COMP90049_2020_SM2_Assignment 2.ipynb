{
 "cells": [
  {
   "cell_type": "code",
   "execution_count": 91,
   "metadata": {},
   "outputs": [],
   "source": [
    "import pandas as pd\n",
    "import numpy as np\n",
    "import matplotlib.pyplot as plt \n",
    "import seaborn as sns\n",
    "from sklearn.feature_extraction.text import TfidfVectorizer\n",
    "from sklearn.model_selection import train_test_split\n",
    "from sklearn.multiclass import OneVsOneClassifier"
   ]
  },
  {
   "cell_type": "code",
   "execution_count": 92,
   "metadata": {},
   "outputs": [],
   "source": [
    "# load data\n",
    "test_features = pd.read_csv(\"test_features.csv\")\n",
    "train_features = pd.read_csv(\"train_features.csv\")\n",
    "train_labels = pd.read_csv(\"train_labels.csv\")\n",
    "valid_features = pd.read_csv(\"valid_features.csv\")\n",
    "valid_labels = pd.read_csv(\"valid_labels.csv\")\n",
    "test_features = pd.read_csv(\"test_features.csv\")"
   ]
  },
  {
   "cell_type": "code",
   "execution_count": 94,
   "metadata": {},
   "outputs": [],
   "source": [
    "# Split data\n",
    "from pandas import DataFrame\n",
    "# Metadata except title\n",
    "metadata_train_features = train_features[['loudness' ,'tempo', 'time_signature', 'key', 'mode', 'duration']]\n",
    "metadata_valid_features = valid_features[['loudness' ,'tempo', 'time_signature', 'key', 'mode', 'duration']]\n",
    "metadata_test_features = test_features[['loudness' ,'tempo', 'time_signature', 'key', 'mode', 'duration']]\n",
    "\n",
    "# Lyric data \n",
    "lyric_train_features = train_features['tags']\n",
    "lyric_valid_features = valid_features['tags']\n",
    "lyric_test_features  = test_features['tags']\n",
    "\n",
    "# Audio data\n",
    "audio_train_features= train_features.iloc[:,9:]\n",
    "audio_valid_features = valid_features.iloc[:,9:]\n",
    "audio_test_features = test_features.iloc[:,9:]\n",
    "\n",
    "# train data class label\n",
    "y_train_labels=train_labels['genre']\n",
    "y_train_labels = DataFrame(y_train_labels)\n",
    "\n",
    "# validation data class label\n",
    "y_valid_labels=valid_labels['genre']\n",
    "y_valid_labels = DataFrame(y_valid_labels)"
   ]
  },
  {
   "cell_type": "code",
   "execution_count": 95,
   "metadata": {},
   "outputs": [],
   "source": [
    "# TF-IDF\n",
    "from pandas import DataFrame\n",
    "from sklearn.feature_extraction.text import CountVectorizer\n",
    "from sklearn.preprocessing import LabelEncoder\n",
    "from sklearn.feature_extraction.text import TfidfVectorizer\n",
    "\n",
    "train_tags = train_features.tags.to_numpy()\n",
    "valid_tags = valid_features.tags.to_numpy()\n",
    "test_tags = test_features.tags.to_numpy()\n",
    "\n",
    "#vectorizer = CountVectorizer()\n",
    "\n",
    "# TF-IDF: Vectorize tags data and put weight according to frequency \n",
    "tfidfv_train = TfidfVectorizer().fit(train_tags)\n",
    "frame_train =DataFrame(tfidfv_train.transform(train_tags).toarray())\n",
    "\n",
    "tfidfv_valid = TfidfVectorizer().fit(valid_tags)\n",
    "frame_valid =DataFrame(tfidfv_train.transform(valid_tags).toarray())\n",
    "\n",
    "tfidfv_test = TfidfVectorizer().fit(test_tags)\n",
    "frame_test =DataFrame(tfidfv_train.transform(test_tags).toarray())"
   ]
  },
  {
   "cell_type": "code",
   "execution_count": 96,
   "metadata": {},
   "outputs": [
    {
     "name": "stdout",
     "output_type": "stream",
     "text": [
      " Metadata Training Accuracy of Gaussian Naive Bayes = 0.3586871581140922\n",
      " Metadata validation Accuracy of Gaussian Naive Bayes = 0.2688888888888889\n"
     ]
    }
   ],
   "source": [
    "###################################################################################\n",
    "# Naive Bayes\n",
    "###################################################################################\n",
    "from sklearn.naive_bayes import GaussianNB\n",
    "\n",
    "# Gaussian Naive Bayes\n",
    "GNB = GaussianNB()\n",
    "\n",
    "# Fit Gaussian Naive Bayes with metadata   \n",
    "GNB.fit(metadata_train_features, np.ravel(y_train_labels))\n",
    "\n",
    "# predict_valid_GNB = GNB.predict(metadata_valid_features)\n",
    "\n",
    "# train Metadata accuracy  \n",
    "pred_train= GNB.score(metadata_train_features , np.ravel(y_train_labels))\n",
    "pred_train_str = str(pred_train)\n",
    "print(' Metadata Training Accuracy of Gaussian Naive Bayes = ' + pred_train_str)\n",
    "\n",
    "# valid Metadata accuracy\n",
    "pred_valid= GNB.score(metadata_valid_features , np.ravel(y_valid_labels))\n",
    "pred_valid_str = str(pred_valid)\n",
    "print(' Metadata validation Accuracy of Gaussian Naive Bayes = ' + pred_valid_str)"
   ]
  },
  {
   "cell_type": "code",
   "execution_count": 97,
   "metadata": {},
   "outputs": [
    {
     "data": {
      "text/plain": [
       "(0.4911111111111111, 0.4911111111111111, 0.4911111111111111, None)"
      ]
     },
     "execution_count": 97,
     "metadata": {},
     "output_type": "execute_result"
    }
   ],
   "source": [
    "# Evaluate Gaussian Naive Bayes model with validatation data: Precision, Recall, F score \n",
    "from sklearn.metrics import precision_recall_fscore_support\n",
    "precision_recall_fscore_support(y_valid_labels, predict_valid_GNB, average='micro')"
   ]
  },
  {
   "cell_type": "code",
   "execution_count": 102,
   "metadata": {},
   "outputs": [
    {
     "name": "stdout",
     "output_type": "stream",
     "text": [
      "Num Features: 6\n",
      "Selected Features: [ True  True  True  True  True  True]\n",
      "Feature Ranking: [1 1 1 1 1 1]\n"
     ]
    },
    {
     "name": "stderr",
     "output_type": "stream",
     "text": [
      "C:\\Users\\s_bjg9089\\Anaconda3\\lib\\site-packages\\sklearn\\utils\\validation.py:68: FutureWarning: Pass n_features_to_select=6 as keyword args. From version 0.25 passing these as positional arguments will result in an error\n",
      "  warnings.warn(\"Pass {} as keyword args. From version 0.25 \"\n"
     ]
    }
   ],
   "source": [
    "# feature selection\n",
    "from sklearn.feature_selection import RFE\n",
    "\n",
    "# Feature extraction\n",
    "model =  GaussianNB()\n",
    "rfe = RFE(model, 6)\n",
    "fit = rfe.fit(metadata_train_features, np.ravel(y_train_labels))\n",
    "print(\"Num Features: %s\" % (fit.n_features_))\n",
    "print(\"Selected Features: %s\" % (fit.support_))\n",
    "print(\"Feature Ranking: %s\" % (fit.ranking_))"
   ]
  },
  {
   "cell_type": "code",
   "execution_count": 99,
   "metadata": {},
   "outputs": [
    {
     "name": "stdout",
     "output_type": "stream",
     "text": [
      " Lyric data training Accuracy of Gaussian Naive Bayes = 0.4963532169835895\n",
      " Lyric data valid Accuracy of Gaussian Naive Bayes = 0.41333333333333333\n"
     ]
    }
   ],
   "source": [
    "# lyric data (tags)\n",
    "\n",
    "# Train Gaussian Naive Bayes model with lyric data\n",
    "GNB.fit(frame_train, np.ravel(y_train_labels))\n",
    "\n",
    "predict_train_GNB = GNB.predict(frame_train)\n",
    "predict_valid_GNB = GNB.predict(frame_valid)\n",
    "\n",
    "# train lyric data accuracy  \n",
    "pred_train = GNB.score(frame_train, y_train_labels )\n",
    "pred_train_str = str(pred_train)\n",
    "print(' Lyric data training Accuracy of Gaussian Naive Bayes = ' + pred_train_str)\n",
    "\n",
    "# valid lyric data accuracy  \n",
    "pred_valid = GNB.score(frame_valid, y_valid_labels )\n",
    "pred_valid_str = str(pred_valid)\n",
    "print(' Lyric data valid Accuracy of Gaussian Naive Bayes = ' + pred_valid_str)"
   ]
  },
  {
   "cell_type": "code",
   "execution_count": 100,
   "metadata": {},
   "outputs": [
    {
     "data": {
      "text/plain": [
       "(0.41333333333333333, 0.41333333333333333, 0.41333333333333333, None)"
      ]
     },
     "execution_count": 100,
     "metadata": {},
     "output_type": "execute_result"
    }
   ],
   "source": [
    "# Evaluate Gaussian Naive Bayes model with validatation data: Precision, Recall, F score \n",
    "precision_recall_fscore_support(y_valid_labels, predict_valid_GNB, average='micro')"
   ]
  },
  {
   "cell_type": "code",
   "execution_count": 104,
   "metadata": {},
   "outputs": [
    {
     "name": "stdout",
     "output_type": "stream",
     "text": [
      " Audio data Training Accuracy of Gaussian Naive Bayes = 0.41885907788486587\n",
      " Audio data validation Accuracy of Gaussian Naive Bayes = 0.4911111111111111\n"
     ]
    }
   ],
   "source": [
    "# Audio data\n",
    "\n",
    "# Fit Gaussian Naive Bayes with audion data   \n",
    "GNB.fit(audio_train_features, np.ravel(y_train_labels))\n",
    "\n",
    "predict_train_GNB = GNB.predict(audio_train_features)\n",
    "predict_valid_GNB = GNB.predict(audio_valid_features)\n",
    "\n",
    "# train audio data accuracy\n",
    "pred_train = GNB.score(audio_train_features,y_train_labels ) # Audio train data\n",
    "pred_train_str = str(pred_train )\n",
    "print(' Audio data Training Accuracy of Gaussian Naive Bayes = ' + pred_train_str)\n",
    "\n",
    "# validation audio data accuracy\n",
    "pred_valid = GNB.score(audio_valid_features,y_valid_labels ) # Audio valid data\n",
    "pred_valid_str = str(pred_valid)\n",
    "print(' Audio data validation Accuracy of Gaussian Naive Bayes = ' + pred_valid_str)\n"
   ]
  },
  {
   "cell_type": "code",
   "execution_count": 105,
   "metadata": {},
   "outputs": [
    {
     "data": {
      "text/plain": [
       "(0.4911111111111111, 0.4911111111111111, 0.4911111111111111, None)"
      ]
     },
     "execution_count": 105,
     "metadata": {},
     "output_type": "execute_result"
    }
   ],
   "source": [
    "# Evalutaion Gaussian Naive Bayes model with validation audio data: Precision, Recall, F score \n",
    "from sklearn.metrics import precision_recall_fscore_support\n",
    "precision_recall_fscore_support(y_valid_labels,predict_valid_GNB, average='micro')"
   ]
  },
  {
   "cell_type": "code",
   "execution_count": 106,
   "metadata": {},
   "outputs": [],
   "source": [
    "###########################################################\n",
    "# Decision Tree\n",
    "###########################################################"
   ]
  },
  {
   "cell_type": "code",
   "execution_count": 107,
   "metadata": {},
   "outputs": [],
   "source": [
    "from sklearn import tree\n",
    "from sklearn.metrics import *\n",
    "from sklearn.tree import DecisionTreeClassifier"
   ]
  },
  {
   "cell_type": "code",
   "execution_count": 108,
   "metadata": {},
   "outputs": [
    {
     "name": "stdout",
     "output_type": "stream",
     "text": [
      " Metadata Training Accuracy of Decision Tree = 0.37574889294087\n",
      " Metadata validation Accuracy of Decision Tree = 0.26666666666666666\n"
     ]
    }
   ],
   "source": [
    "# Metadata Decision tree\n",
    "DT = DecisionTreeClassifier(criterion='entropy',max_depth=3) # decision tree optimal depth?????\n",
    "\n",
    "# Fit Decision Tree with metadata   \n",
    "DT.fit(metadata_train_features, np.ravel(y_train_labels))\n",
    "\n",
    "# predict \n",
    "predict_train_DT = DT.predict(metadata_train_features)\n",
    "predict_valid_DT = DT.predict(metadata_valid_features)\n",
    "\n",
    "# train metadata accuracy\n",
    "pred_train = DT.score(metadata_train_features, np.ravel(y_train_labels)) \n",
    "pred_train_str = str(pred_train )\n",
    "print(' Metadata Training Accuracy of Decision Tree = ' + pred_train_str)\n",
    "\n",
    "# validation metadataa accuracy\n",
    "pred_valid = DT.score(metadata_valid_features,np.ravel(y_valid_labels) ) \n",
    "pred_valid_str = str(pred_valid)\n",
    "print(' Metadata validation Accuracy of Decision Tree = ' + pred_valid_str)"
   ]
  },
  {
   "cell_type": "code",
   "execution_count": 109,
   "metadata": {},
   "outputs": [
    {
     "data": {
      "text/plain": [
       "(0.26666666666666666, 0.26666666666666666, 0.26666666666666666, None)"
      ]
     },
     "execution_count": 109,
     "metadata": {},
     "output_type": "execute_result"
    }
   ],
   "source": [
    "# Evaluate Decision Tree model with validatation data: Precision, Recall, F score \n",
    "precision_recall_fscore_support(y_valid_labels, predict_valid_DT, average='micro')"
   ]
  },
  {
   "cell_type": "code",
   "execution_count": 110,
   "metadata": {},
   "outputs": [
    {
     "data": {
      "text/plain": [
       "Text(0.5, 1.0, '[ Decision Tree (metadata) ]')"
      ]
     },
     "execution_count": 110,
     "metadata": {},
     "output_type": "execute_result"
    },
    {
     "data": {
      "image/png": "[encoded data removed]",
      "text/plain": [
       "<Figure size 1440x720 with 1 Axes>"
      ]
     },
     "metadata": {
      "needs_background": "light"
     },
     "output_type": "display_data"
    }
   ],
   "source": [
    "# Visualize Decision Tree \n",
    "from matplotlib import pyplot as plt\n",
    "from sklearn import datasets\n",
    "from sklearn.tree import DecisionTreeClassifier \n",
    "from sklearn import tree\n",
    "\n",
    "fig = plt.figure(figsize=(20,10))\n",
    "_ = tree.plot_tree(DT, \n",
    "                   feature_names=metadata_train_features.columns,  \n",
    "                   class_names=np.ravel(y_train_labels),\n",
    "                   filled=True)\n",
    "\n",
    "\n",
    "plt.title('[ Decision Tree (metadata) ]')"
   ]
  },
  {
   "cell_type": "code",
   "execution_count": 111,
   "metadata": {},
   "outputs": [
    {
     "name": "stdout",
     "output_type": "stream",
     "text": [
      " Metadata Training Accuracy of Decision Tree = 0.31193019015368584\n",
      " Metadata validation Accuracy of Decision Tree = 0.3622222222222222\n"
     ]
    }
   ],
   "source": [
    "# Lyric data (tags) Decision Tree\n",
    "\n",
    "# Fit Decision Tree with lyric data    \n",
    "DT.fit(frame_train, np.ravel(y_train_labels))\n",
    "\n",
    "# predict \n",
    "predict_train_DT = DT.predict(frame_train)\n",
    "predict_valid_DT = DT.predict(frame_valid)\n",
    "\n",
    "# train metadata accuracy\n",
    "pred_train = DT.score(frame_train , np.ravel(y_train_labels)) \n",
    "pred_train_str = str(pred_train )\n",
    "print(' Metadata Training Accuracy of Decision Tree = ' + pred_train_str)\n",
    "\n",
    "# validation metadataa accuracy\n",
    "pred_valid = DT.score(frame_valid , np.ravel(y_valid_labels)) \n",
    "pred_valid_str = str(pred_valid)\n",
    "print(' Metadata validation Accuracy of Decision Tree = ' + pred_valid_str)"
   ]
  },
  {
   "cell_type": "code",
   "execution_count": 112,
   "metadata": {},
   "outputs": [
    {
     "data": {
      "text/plain": [
       "(0.3622222222222222, 0.3622222222222222, 0.36222222222222217, None)"
      ]
     },
     "execution_count": 112,
     "metadata": {},
     "output_type": "execute_result"
    }
   ],
   "source": [
    "# Evaluate Decision Tree model with validatation data: Precision, Recall, F score \n",
    "precision_recall_fscore_support(y_valid_labels, predict_valid_DT, average='micro')"
   ]
  },
  {
   "cell_type": "code",
   "execution_count": 113,
   "metadata": {},
   "outputs": [
    {
     "name": "stdout",
     "output_type": "stream",
     "text": [
      " Audio data Training Accuracy of Decision Tree = 0.7234957020057307\n",
      " Audio data validation Accuracy of Decision Tree = 0.3688888888888889\n"
     ]
    }
   ],
   "source": [
    "# Audio data Decision Tree\n",
    "DT = DecisionTreeClassifier(criterion='entropy',max_depth=10)\n",
    "\n",
    "# Fit Decision Tree with audio data     \n",
    "DT.fit(audio_train_features, np.ravel(y_train_labels))\n",
    "\n",
    "# predict \n",
    "predict_train_DT = DT.predict(audio_train_features)\n",
    "predict_valid_DT = DT.predict(audio_valid_features)\n",
    "\n",
    "# train audio data accuracy\n",
    "pred_train = DT.score(audio_train_features , np.ravel(y_train_labels)) \n",
    "pred_train_str = str(pred_train )\n",
    "print(' Audio data Training Accuracy of Decision Tree = ' + pred_train_str)\n",
    "\n",
    "# validation audion data accuracy\n",
    "pred_valid = DT.score(audio_valid_features , np.ravel(y_valid_labels)) \n",
    "pred_valid_str = str(pred_valid)\n",
    "print(' Audio data validation Accuracy of Decision Tree = ' + pred_valid_str)"
   ]
  },
  {
   "cell_type": "code",
   "execution_count": 114,
   "metadata": {},
   "outputs": [
    {
     "name": "stdout",
     "output_type": "stream",
     "text": [
      "(0.3688888888888889, 0.3688888888888889, 0.3688888888888889, None)\n"
     ]
    }
   ],
   "source": [
    "# Evaluate Decision Tree model with validatation data: Precision, Recall, F score \n",
    "print(precision_recall_fscore_support(y_valid_labels, predict_valid_DT, average='micro'))"
   ]
  },
  {
   "cell_type": "code",
   "execution_count": 115,
   "metadata": {},
   "outputs": [],
   "source": [
    "####################################################################\n",
    "# Logistic Regression\n",
    "####################################################################"
   ]
  },
  {
   "cell_type": "code",
   "execution_count": 116,
   "metadata": {},
   "outputs": [],
   "source": [
    "from sklearn.linear_model import LogisticRegression\n",
    "\n",
    "# Binary Relevance\n",
    "from sklearn.multiclass import OneVsRestClassifier\n",
    "\n",
    "# Performance metric\n",
    "from sklearn.metrics import f1_score\n",
    "from sklearn.metrics import accuracy_score\n",
    "\n",
    "lr = LogisticRegression()\n",
    "# Convert logistic regression model for multiclass \n",
    "clf = OneVsRestClassifier(lr)"
   ]
  },
  {
   "cell_type": "code",
   "execution_count": 117,
   "metadata": {
    "scrolled": true
   },
   "outputs": [
    {
     "name": "stderr",
     "output_type": "stream",
     "text": [
      "C:\\Users\\s_bjg9089\\Anaconda3\\lib\\site-packages\\sklearn\\linear_model\\_logistic.py:762: ConvergenceWarning: lbfgs failed to converge (status=1):\n",
      "STOP: TOTAL NO. of ITERATIONS REACHED LIMIT.\n",
      "\n",
      "Increase the number of iterations (max_iter) or scale the data as shown in:\n",
      "    https://scikit-learn.org/stable/modules/preprocessing.html\n",
      "Please also refer to the documentation for alternative solver options:\n",
      "    https://scikit-learn.org/stable/modules/linear_model.html#logistic-regression\n",
      "  n_iter_i = _check_optimize_result(\n",
      "C:\\Users\\s_bjg9089\\Anaconda3\\lib\\site-packages\\sklearn\\linear_model\\_logistic.py:762: ConvergenceWarning: lbfgs failed to converge (status=1):\n",
      "STOP: TOTAL NO. of ITERATIONS REACHED LIMIT.\n",
      "\n",
      "Increase the number of iterations (max_iter) or scale the data as shown in:\n",
      "    https://scikit-learn.org/stable/modules/preprocessing.html\n",
      "Please also refer to the documentation for alternative solver options:\n",
      "    https://scikit-learn.org/stable/modules/linear_model.html#logistic-regression\n",
      "  n_iter_i = _check_optimize_result(\n",
      "C:\\Users\\s_bjg9089\\Anaconda3\\lib\\site-packages\\sklearn\\linear_model\\_logistic.py:762: ConvergenceWarning: lbfgs failed to converge (status=1):\n",
      "STOP: TOTAL NO. of ITERATIONS REACHED LIMIT.\n",
      "\n",
      "Increase the number of iterations (max_iter) or scale the data as shown in:\n",
      "    https://scikit-learn.org/stable/modules/preprocessing.html\n",
      "Please also refer to the documentation for alternative solver options:\n",
      "    https://scikit-learn.org/stable/modules/linear_model.html#logistic-regression\n",
      "  n_iter_i = _check_optimize_result(\n"
     ]
    },
    {
     "name": "stdout",
     "output_type": "stream",
     "text": [
      "Metadata train Accuracy of Logistic Regression = 0.37275332117738996\n",
      "Metadata valid Accuracy of Logistic Regression = 0.2911111111111111\n"
     ]
    }
   ],
   "source": [
    "# Metadata Logistic Regression\n",
    "\n",
    "# Fit Multiclass Logistic Regression with metadata     \n",
    "clf.fit(metadata_train_features, np.ravel(y_train_labels))\n",
    "\n",
    "# predict \n",
    "predict_train_LR = clf.predict(metadata_train_features)\n",
    "predict_valid_LR = clf.predict(metadata_valid_features)\n",
    "\n",
    "# train metadata accuracy\n",
    "pred_train = clf.score(metadata_train_features, np.ravel(y_train_labels))\n",
    "pred_str = str(pred_train)\n",
    "print('Metadata train Accuracy of Logistic Regression = ' + pred_str)\n",
    "\n",
    "# valid metadata accuracy \n",
    "pred_valid = clf.score(metadata_valid_features, np.ravel(y_valid_labels))\n",
    "pred_str = str(pred_valid)\n",
    "print('Metadata valid Accuracy of Logistic Regression = ' + pred_str)"
   ]
  },
  {
   "cell_type": "code",
   "execution_count": 118,
   "metadata": {},
   "outputs": [
    {
     "data": {
      "text/plain": [
       "(0.2911111111111111, 0.2911111111111111, 0.2911111111111111, None)"
      ]
     },
     "execution_count": 118,
     "metadata": {},
     "output_type": "execute_result"
    }
   ],
   "source": [
    "# Evaluate Multiclass Logistic Regression model with validatation data: Precision, Recall, F score \n",
    "precision_recall_fscore_support(y_valid_labels, predict_valid_LR, average='micro')"
   ]
  },
  {
   "cell_type": "code",
   "execution_count": 119,
   "metadata": {},
   "outputs": [
    {
     "name": "stdout",
     "output_type": "stream",
     "text": [
      "Lyric data train Accuracy of Multiclass Logistic Regression = 0.6897629591039334\n",
      "Lyric data valid Accuracy of Multiclass Logistic Regression = 0.6022222222222222\n"
     ]
    }
   ],
   "source": [
    "# Lyric data Multiclass Logistic Regression\n",
    "\n",
    "# Fit Multiclass Logistic Regression with lyric data    \n",
    "clf.fit(frame_train, np.ravel(y_train_labels))\n",
    "\n",
    "# predict \n",
    "predict_train_LR = clf.predict(frame_train)\n",
    "predict_valid_LR = clf.predict(frame_valid)\n",
    "\n",
    "# train lyric data accuracy\n",
    "pred_train = clf.score(frame_train, np.ravel(y_train_labels))\n",
    "pred_str = str(pred_train)\n",
    "print('Lyric data train Accuracy of Multiclass Logistic Regression = ' + pred_str)\n",
    "\n",
    "# valid lyric data accuracy \n",
    "pred_valid = clf.score(frame_valid, np.ravel(y_valid_labels))\n",
    "pred_str = str(pred_valid)\n",
    "print('Lyric data valid Accuracy of Multiclass Logistic Regression = ' + pred_str)\n",
    "\n",
    "\n",
    "# predict \n",
    "predict_train_LR = clf.predict(frame_train)\n",
    "predict_valid_LR = clf.predict(frame_valid)\n",
    "predict_test_LR = clf.predict(frame_test)\n"
   ]
  },
  {
   "cell_type": "code",
   "execution_count": 120,
   "metadata": {},
   "outputs": [
    {
     "data": {
      "text/plain": [
       "(0.6022222222222222, 0.6022222222222222, 0.6022222222222222, None)"
      ]
     },
     "execution_count": 120,
     "metadata": {},
     "output_type": "execute_result"
    }
   ],
   "source": [
    "# Evaluate Multiclass Logistic Regression model with validatation data: Precision, Recall, F score \n",
    "y_valid_predict=clf.predict(frame_valid)\n",
    "precision_recall_fscore_support(y_valid_predict, np.ravel(y_valid_labels), average='micro')"
   ]
  },
  {
   "cell_type": "code",
   "execution_count": 122,
   "metadata": {},
   "outputs": [
    {
     "name": "stderr",
     "output_type": "stream",
     "text": [
      "C:\\Users\\s_bjg9089\\Anaconda3\\lib\\site-packages\\sklearn\\linear_model\\_logistic.py:762: ConvergenceWarning: lbfgs failed to converge (status=1):\n",
      "STOP: TOTAL NO. of ITERATIONS REACHED LIMIT.\n",
      "\n",
      "Increase the number of iterations (max_iter) or scale the data as shown in:\n",
      "    https://scikit-learn.org/stable/modules/preprocessing.html\n",
      "Please also refer to the documentation for alternative solver options:\n",
      "    https://scikit-learn.org/stable/modules/linear_model.html#logistic-regression\n",
      "  n_iter_i = _check_optimize_result(\n",
      "C:\\Users\\s_bjg9089\\Anaconda3\\lib\\site-packages\\sklearn\\linear_model\\_logistic.py:762: ConvergenceWarning: lbfgs failed to converge (status=1):\n",
      "STOP: TOTAL NO. of ITERATIONS REACHED LIMIT.\n",
      "\n",
      "Increase the number of iterations (max_iter) or scale the data as shown in:\n",
      "    https://scikit-learn.org/stable/modules/preprocessing.html\n",
      "Please also refer to the documentation for alternative solver options:\n",
      "    https://scikit-learn.org/stable/modules/linear_model.html#logistic-regression\n",
      "  n_iter_i = _check_optimize_result(\n",
      "C:\\Users\\s_bjg9089\\Anaconda3\\lib\\site-packages\\sklearn\\linear_model\\_logistic.py:762: ConvergenceWarning: lbfgs failed to converge (status=1):\n",
      "STOP: TOTAL NO. of ITERATIONS REACHED LIMIT.\n",
      "\n",
      "Increase the number of iterations (max_iter) or scale the data as shown in:\n",
      "    https://scikit-learn.org/stable/modules/preprocessing.html\n",
      "Please also refer to the documentation for alternative solver options:\n",
      "    https://scikit-learn.org/stable/modules/linear_model.html#logistic-regression\n",
      "  n_iter_i = _check_optimize_result(\n",
      "C:\\Users\\s_bjg9089\\Anaconda3\\lib\\site-packages\\sklearn\\linear_model\\_logistic.py:762: ConvergenceWarning: lbfgs failed to converge (status=1):\n",
      "STOP: TOTAL NO. of ITERATIONS REACHED LIMIT.\n",
      "\n",
      "Increase the number of iterations (max_iter) or scale the data as shown in:\n",
      "    https://scikit-learn.org/stable/modules/preprocessing.html\n",
      "Please also refer to the documentation for alternative solver options:\n",
      "    https://scikit-learn.org/stable/modules/linear_model.html#logistic-regression\n",
      "  n_iter_i = _check_optimize_result(\n",
      "C:\\Users\\s_bjg9089\\Anaconda3\\lib\\site-packages\\sklearn\\linear_model\\_logistic.py:762: ConvergenceWarning: lbfgs failed to converge (status=1):\n",
      "STOP: TOTAL NO. of ITERATIONS REACHED LIMIT.\n",
      "\n",
      "Increase the number of iterations (max_iter) or scale the data as shown in:\n",
      "    https://scikit-learn.org/stable/modules/preprocessing.html\n",
      "Please also refer to the documentation for alternative solver options:\n",
      "    https://scikit-learn.org/stable/modules/linear_model.html#logistic-regression\n",
      "  n_iter_i = _check_optimize_result(\n",
      "C:\\Users\\s_bjg9089\\Anaconda3\\lib\\site-packages\\sklearn\\linear_model\\_logistic.py:762: ConvergenceWarning: lbfgs failed to converge (status=1):\n",
      "STOP: TOTAL NO. of ITERATIONS REACHED LIMIT.\n",
      "\n",
      "Increase the number of iterations (max_iter) or scale the data as shown in:\n",
      "    https://scikit-learn.org/stable/modules/preprocessing.html\n",
      "Please also refer to the documentation for alternative solver options:\n",
      "    https://scikit-learn.org/stable/modules/linear_model.html#logistic-regression\n",
      "  n_iter_i = _check_optimize_result(\n",
      "C:\\Users\\s_bjg9089\\Anaconda3\\lib\\site-packages\\sklearn\\linear_model\\_logistic.py:762: ConvergenceWarning: lbfgs failed to converge (status=1):\n",
      "STOP: TOTAL NO. of ITERATIONS REACHED LIMIT.\n",
      "\n",
      "Increase the number of iterations (max_iter) or scale the data as shown in:\n",
      "    https://scikit-learn.org/stable/modules/preprocessing.html\n",
      "Please also refer to the documentation for alternative solver options:\n",
      "    https://scikit-learn.org/stable/modules/linear_model.html#logistic-regression\n",
      "  n_iter_i = _check_optimize_result(\n",
      "C:\\Users\\s_bjg9089\\Anaconda3\\lib\\site-packages\\sklearn\\linear_model\\_logistic.py:762: ConvergenceWarning: lbfgs failed to converge (status=1):\n",
      "STOP: TOTAL NO. of ITERATIONS REACHED LIMIT.\n",
      "\n",
      "Increase the number of iterations (max_iter) or scale the data as shown in:\n",
      "    https://scikit-learn.org/stable/modules/preprocessing.html\n",
      "Please also refer to the documentation for alternative solver options:\n",
      "    https://scikit-learn.org/stable/modules/linear_model.html#logistic-regression\n",
      "  n_iter_i = _check_optimize_result(\n"
     ]
    },
    {
     "name": "stdout",
     "output_type": "stream",
     "text": [
      "Audio data train Accuracy of Multiclass Logistic Regression = 0.4893201354519406\n",
      "Audio data valid Accuracy of Multiclass Logistic Regression = 0.4066666666666667\n"
     ]
    }
   ],
   "source": [
    "# Audio data Logistic Regression\n",
    "\n",
    "# Fit Multiclass Logistic Regression with audio data    \n",
    "clf.fit(audio_train_features, np.ravel(y_train_labels))\n",
    "\n",
    "# predict \n",
    "predict_train_LR = clf.predict(audio_train_features)\n",
    "predict_valid_LR = clf.predict(audio_valid_features)\n",
    "\n",
    "# train lyric data accuracy\n",
    "pred_train = clf.score(audio_train_features, np.ravel(y_train_labels))\n",
    "pred_str = str(pred_train)\n",
    "print('Audio data train Accuracy of Multiclass Logistic Regression = ' + pred_str)\n",
    "\n",
    "# valid lyric data accuracy \n",
    "pred_valid = clf.score(audio_valid_features, np.ravel(y_valid_labels))\n",
    "pred_str = str(pred_valid)\n",
    "print('Audio data valid Accuracy of Multiclass Logistic Regression = ' + pred_str)"
   ]
  },
  {
   "cell_type": "code",
   "execution_count": 123,
   "metadata": {},
   "outputs": [
    {
     "data": {
      "text/plain": [
       "(0.4066666666666667, 0.4066666666666667, 0.4066666666666667, None)"
      ]
     },
     "execution_count": 123,
     "metadata": {},
     "output_type": "execute_result"
    }
   ],
   "source": [
    "# Evaluate Multiclass Logistic Regression model with validatation data: Precision, Recall, F score \n",
    "precision_recall_fscore_support(y_valid_labels, predict_valid_LR, average='micro')"
   ]
  },
  {
   "cell_type": "code",
   "execution_count": 124,
   "metadata": {},
   "outputs": [],
   "source": [
    "# Learning curve - Logistic Regression by lyric data \n",
    "from sklearn.model_selection import learning_curve\n",
    "\n",
    "train_sizes, train_scores, validation_scores = learning_curve(estimator = clf, X = frame_train,\n",
    "                                                              y = np.ravel(y_train_labels),cv=5, scoring = 'accuracy')"
   ]
  },
  {
   "cell_type": "code",
   "execution_count": 125,
   "metadata": {},
   "outputs": [],
   "source": [
    "train_mean = np.mean(train_scores, axis=1)\n",
    "validation_mean = np.mean(validation_scores, axis= 1)"
   ]
  },
  {
   "cell_type": "code",
   "execution_count": 126,
   "metadata": {},
   "outputs": [
    {
     "data": {
      "text/plain": [
       "<matplotlib.legend.Legend at 0x1c098efe7c0>"
      ]
     },
     "execution_count": 126,
     "metadata": {},
     "output_type": "execute_result"
    },
    {
     "data": {
      "image/png": "[encoded data removed]",
      "text/plain": [
       "<Figure size 432x288 with 1 Axes>"
      ]
     },
     "metadata": {
      "needs_background": "light"
     },
     "output_type": "display_data"
    }
   ],
   "source": [
    "# plot Multiclass Logistic Regression Learning curve\n",
    "plt.plot(train_sizes, train_mean, label= \"Training Score\")\n",
    "plt.plot(train_sizes, validation_mean, label= \"Cross-Validation Score\")\n",
    "\n",
    "\n",
    "plt.title('Multiclass Logisitic Regression Learning Curve')\n",
    "plt.xlabel('Training size')\n",
    "plt.ylabel('Accuracy Score')\n",
    "plt.legend(loc = 'best')"
   ]
  },
  {
   "cell_type": "code",
   "execution_count": 127,
   "metadata": {},
   "outputs": [],
   "source": [
    "# Learning curve - Naive Bayes by lyric data \n",
    "train_sizes, train_scores, validation_scores = learning_curve(estimator = GNB, X = frame_train,\n",
    "                                                              y = np.ravel(y_train_labels),cv=5, scoring = 'accuracy')\n",
    "\n",
    "train_mean = np.mean(train_scores, axis=1)\n",
    "validation_mean = np.mean(validation_scores, axis= 1)"
   ]
  },
  {
   "cell_type": "code",
   "execution_count": 128,
   "metadata": {},
   "outputs": [
    {
     "data": {
      "text/plain": [
       "<matplotlib.legend.Legend at 0x1c098fbf1c0>"
      ]
     },
     "execution_count": 128,
     "metadata": {},
     "output_type": "execute_result"
    },
    {
     "data": {
      "image/png": "[encoded data removed]",
      "text/plain": [
       "<Figure size 432x288 with 1 Axes>"
      ]
     },
     "metadata": {
      "needs_background": "light"
     },
     "output_type": "display_data"
    }
   ],
   "source": [
    "# plot Naive Bayes Learning curve\n",
    "plt.plot(train_sizes, train_mean, label= \"Training Score\")\n",
    "plt.plot(train_sizes, validation_mean, label= \"Cross-Validation Score\")\n",
    "\n",
    "\n",
    "plt.title('Gaussian Naiev Bayes Learning Curve')\n",
    "plt.xlabel('Training size')\n",
    "plt.ylabel('Accuracy Score')\n",
    "plt.legend(loc = 'best')"
   ]
  },
  {
   "cell_type": "code",
   "execution_count": 129,
   "metadata": {},
   "outputs": [],
   "source": [
    "# Learning curve - Decision Tree by lyric data \n",
    "from sklearn.model_selection import learning_curve\n",
    "\n",
    "train_sizes, train_scores, validation_scores = learning_curve(estimator = DT, X = frame_train,\n",
    "                                                              y = np.ravel(y_train_labels),cv=5, scoring = 'accuracy')\n",
    "\n",
    "train_mean = np.mean(train_scores, axis=1)\n",
    "validation_mean = np.mean(validation_scores, axis= 1)\n"
   ]
  },
  {
   "cell_type": "code",
   "execution_count": 130,
   "metadata": {},
   "outputs": [
    {
     "data": {
      "text/plain": [
       "<matplotlib.legend.Legend at 0x1c0990d1b20>"
      ]
     },
     "execution_count": 130,
     "metadata": {},
     "output_type": "execute_result"
    },
    {
     "data": {
      "image/png": "[encoded data removed]",
      "text/plain": [
       "<Figure size 432x288 with 1 Axes>"
      ]
     },
     "metadata": {
      "needs_background": "light"
     },
     "output_type": "display_data"
    }
   ],
   "source": [
    "# plot Decision Tree Learning curve\n",
    "plt.plot(train_sizes, train_mean, label= \"Training Score\")\n",
    "plt.plot(train_sizes, validation_mean, label= \"Cross-Validation Score\")\n",
    "\n",
    "\n",
    "plt.title('Decsion Tree Learning Curve')\n",
    "plt.xlabel('Training size')\n",
    "plt.ylabel('Accuracy Score')\n",
    "plt.legend(loc = 'best')"
   ]
  },
  {
   "cell_type": "code",
   "execution_count": null,
   "metadata": {},
   "outputs": [],
   "source": [
    "# feature selection - Logistic Regression by lyric data \n",
    "# Impossible to implement beacuse leack of computing power\n",
    "#rfe = RFE(model, 500)\n",
    "fit = rfe.fit(frame_train, np.ravel(y_train_labels) )\n",
    "print(\"Num Features: %s\" % (fit.n_features_))\n",
    "print(\"Selected Features: %s\" % (fit.support_))\n",
    "print(\"Feature Ranking: %s\" % (fit.ranking_))"
   ]
  },
  {
   "cell_type": "code",
   "execution_count": 80,
   "metadata": {},
   "outputs": [
    {
     "name": "stdout",
     "output_type": "stream",
     "text": [
      "                   Genre  Count\n",
      "4   classic pop and rock   1629\n",
      "1                   folk   1601\n",
      "0                  metal   1143\n",
      "5                   punk    937\n",
      "3        soul and reggae    930\n",
      "7                    pop    657\n",
      "6  dance and electronica    478\n",
      "2         jazz and blues    303\n"
     ]
    },
    {
     "data": {
      "image/png": "[encoded data removed]",
      "text/plain": [
       "<Figure size 432x648 with 1 Axes>"
      ]
     },
     "metadata": {
      "needs_background": "light"
     },
     "output_type": "display_data"
    }
   ],
   "source": [
    "# Plot train data class distribtion\n",
    "import nltk\n",
    "# Check labels distribution\n",
    "y=[]\n",
    "for a in train_labels['genre']:\n",
    "    y.append(a)\n",
    "all_genres =y\n",
    "\n",
    "all_genres = nltk.FreqDist(all_genres) \n",
    "\n",
    "# create dataframe\n",
    "all_genres_df = pd.DataFrame({'Genre': list(all_genres.keys()), \n",
    "                              'Count': list(all_genres.values())})\n",
    "\n",
    "\n",
    "g = all_genres_df.nlargest(columns=\"Count\", n = 50) \n",
    "print(g)\n",
    "plt.figure(figsize=(6,9)) \n",
    "ax = sns.barplot(data=g, x= \"Count\", y = \"Genre\") \n",
    "ax.set(xlabel = 'Count') \n",
    "ax.set(ylabel = 'Genre')\n",
    "plt.show()"
   ]
  },
  {
   "cell_type": "code",
   "execution_count": 81,
   "metadata": {},
   "outputs": [
    {
     "data": {
      "image/png": "[encoded data removed]",
      "text/plain": [
       "<Figure size 432x648 with 1 Axes>"
      ]
     },
     "metadata": {
      "needs_background": "light"
     },
     "output_type": "display_data"
    }
   ],
   "source": [
    "# Plot validation data class distribtion\n",
    "y=[]\n",
    "for a in valid_labels['genre']:\n",
    "    y.append(a)\n",
    "all_genres =y\n",
    "\n",
    "all_genres = nltk.FreqDist(all_genres) \n",
    "\n",
    "# create dataframe\n",
    "all_genres_df = pd.DataFrame({'Genre': list(all_genres.keys()), \n",
    "                              'Count': list(all_genres.values())})\n",
    "\n",
    "\n",
    "g = all_genres_df.nlargest(columns=\"Count\", n = 50) \n",
    "plt.figure(figsize=(6,9)) \n",
    "ax = sns.barplot(data=g, x= \"Count\", y = \"Genre\") \n",
    "ax.set(xlabel = 'Count') \n",
    "ax.set(ylabel = 'Genre')\n",
    "plt.show()"
   ]
  },
  {
   "cell_type": "code",
   "execution_count": 82,
   "metadata": {},
   "outputs": [],
   "source": [
    "##############################################\n",
    "# Baseline - ZeroR\n",
    "##############################################"
   ]
  },
  {
   "cell_type": "code",
   "execution_count": 85,
   "metadata": {},
   "outputs": [
    {
     "data": {
      "text/plain": [
       "0.21216462620474083"
      ]
     },
     "execution_count": 85,
     "metadata": {},
     "output_type": "execute_result"
    }
   ],
   "source": [
    "#Set ZeroR as baseline - mf: most frequent\n",
    "from sklearn.dummy import DummyClassifier\n",
    "Dummy_classifier = DummyClassifier(strategy=\"most_frequent\")\n",
    "Dummy_classifier.fit(frame_train, np.ravel(y_train_labels))\n",
    "\n",
    "Dummy_classifier.score(frame_train, np.ravel(y_train_labels))"
   ]
  },
  {
   "cell_type": "code",
   "execution_count": 84,
   "metadata": {},
   "outputs": [
    {
     "data": {
      "text/plain": [
       "0.12222222222222222"
      ]
     },
     "execution_count": 84,
     "metadata": {},
     "output_type": "execute_result"
    }
   ],
   "source": [
    "# Baseline validation accuracy \n",
    "Dummy_classifier.score(frame_valid, np.ravel(y_valid_labels))"
   ]
  },
  {
   "cell_type": "code",
   "execution_count": null,
   "metadata": {},
   "outputs": [],
   "source": [
    "##############################################\n",
    "# Test the test data\n",
    "##############################################"
   ]
  },
  {
   "cell_type": "code",
   "execution_count": 74,
   "metadata": {},
   "outputs": [],
   "source": [
    "# Test data\n",
    "predict_test_LR = clf.predict(frame_test)\n",
    "predict_test_LR=DataFrame(predict_test_LR)\n",
    "predict_test_LR.columns=[\"genre\"]\n",
    "\n",
    "test_trackID = test_features.iloc[:,0]\n",
    "test_trackID= DataFrame(test_trackID)\n",
    "test_trackID.columns=[\"trackID\"]\n",
    "\n",
    "test_result = pd.concat([test_trackID,predict_test_LR], axis=1, ignore_index=True) \n",
    "test_result.columns=[\"trackID\", \"genre\"]"
   ]
  },
  {
   "cell_type": "code",
   "execution_count": 62,
   "metadata": {},
   "outputs": [],
   "source": [
    "# Extract the predision as CSV file\n",
    "#C:\\Users\\s_bjg9089\\Desktop\\Semester 2 - Unimelb\n",
    "#test_result.to_csv(r'\\test_Result3.csv', index = False)"
   ]
  }
 ],
 "metadata": {
  "kernelspec": {
   "display_name": "Python 3",
   "language": "python",
   "name": "python3"
  },
  "language_info": {
   "codemirror_mode": {
    "name": "ipython",
    "version": 3
   },
   "file_extension": ".py",
   "mimetype": "text/x-python",
   "name": "python",
   "nbconvert_exporter": "python",
   "pygments_lexer": "ipython3",
   "version": "3.8.3"
  }
 },
 "nbformat": 4,
 "nbformat_minor": 4
}
